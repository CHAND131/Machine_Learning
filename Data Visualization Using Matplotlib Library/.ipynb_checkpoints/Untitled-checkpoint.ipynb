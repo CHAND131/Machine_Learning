{
 "cells": [
  {
   "cell_type": "code",
   "execution_count": null,
   "id": "56e1356d",
   "metadata": {},
   "outputs": [],
   "source": [
    "#first model for ml\n",
    "\n",
    "features = [[140,1],[130,1],[150,0],[170,0]]\n",
    "labels = [0,0,1,1]\n",
    "clf = tree.DecisionTreeClassifier()\n",
    "clf = clf.fit(features,labels) # training our model\n",
    "print(\"Identify apple and orange based on weight and texture\")\n",
    "feat = []\n",
    "x= int(input(\"enter weight\"))\n",
    "y=int(input(\"0-bumpy,1-smooth\"))\n",
    "feat.append(x)\n",
    "feat.append(y)\n",
    "if clf.predict([feat])==1:\n",
    "    print(\"Orange\")\n",
    "else:\n",
    "    print(\"apple\")"
   ]
  },
  {
   "cell_type": "code",
   "execution_count": null,
   "id": "2bb191c8",
   "metadata": {},
   "outputs": [],
   "source": []
  },
  {
   "cell_type": "code",
   "execution_count": null,
   "id": "b57c8f01",
   "metadata": {},
   "outputs": [],
   "source": []
  },
  {
   "cell_type": "code",
   "execution_count": null,
   "id": "69d24a4c",
   "metadata": {},
   "outputs": [],
   "source": []
  }
 ],
 "metadata": {
  "kernelspec": {
   "display_name": "Python 3 (ipykernel)",
   "language": "python",
   "name": "python3"
  },
  "language_info": {
   "codemirror_mode": {
    "name": "ipython",
    "version": 3
   },
   "file_extension": ".py",
   "mimetype": "text/x-python",
   "name": "python",
   "nbconvert_exporter": "python",
   "pygments_lexer": "ipython3",
   "version": "3.9.12"
  }
 },
 "nbformat": 4,
 "nbformat_minor": 5
}
