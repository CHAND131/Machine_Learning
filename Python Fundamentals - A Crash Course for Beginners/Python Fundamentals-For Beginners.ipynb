{
 "cells": [
  {
   "cell_type": "markdown",
   "id": "67a5dc0b",
   "metadata": {},
   "source": [
    "# SAP Codeunnati - Python Fundamentals\n"
   ]
  },
  {
   "cell_type": "code",
   "execution_count": 1,
   "id": "16dea0ef",
   "metadata": {},
   "outputs": [
    {
     "name": "stdout",
     "output_type": "stream",
     "text": [
      "Sahu Chand\n"
     ]
    }
   ],
   "source": [
    "print(\"Sahu Chand\")"
   ]
  },
  {
   "cell_type": "code",
   "execution_count": 2,
   "id": "ce32807c",
   "metadata": {},
   "outputs": [
    {
     "name": "stdout",
     "output_type": "stream",
     "text": [
      "10\n"
     ]
    }
   ],
   "source": [
    "x=10\n",
    "print(x)"
   ]
  },
  {
   "cell_type": "code",
   "execution_count": 15,
   "id": "28ac07ba",
   "metadata": {},
   "outputs": [
    {
     "name": "stdout",
     "output_type": "stream",
     "text": [
      "10\n",
      "3.14\n",
      "surat\n",
      "Code Unnati 2.0\n",
      "True\n",
      "<class 'int'> <class 'float'> <class 'str'> <class 'str'> <class 'bool'>\n"
     ]
    }
   ],
   "source": [
    "a = 10 \n",
    "b = 3.14\n",
    "c = \"surat\"\n",
    "d = \"Code Unnati 2.0\"\n",
    "e = True\n",
    "print(a,b,c,d,e,sep = '\\n')\n",
    "print(type(a),type(b),type(c),type(d),type(e))"
   ]
  },
  {
   "cell_type": "code",
   "execution_count": 16,
   "id": "0112a12d",
   "metadata": {},
   "outputs": [
    {
     "name": "stdout",
     "output_type": "stream",
     "text": [
      "12 12 13\n"
     ]
    }
   ],
   "source": [
    "b,c,d = 12, 12, 13\n",
    "print(b,c,d)"
   ]
  },
  {
   "cell_type": "code",
   "execution_count": 18,
   "id": "b54db3c6",
   "metadata": {},
   "outputs": [
    {
     "name": "stdout",
     "output_type": "stream",
     "text": [
      "Enter operand:45\n",
      "Enter second operand:65\n",
      "2925\n"
     ]
    }
   ],
   "source": [
    "x = int(input(\"Enter operand:\"))\n",
    "y = int(input(\"Enter second operand:\"))\n",
    "z = x*y\n",
    "print(z)"
   ]
  },
  {
   "cell_type": "markdown",
   "id": "495c79c2",
   "metadata": {},
   "source": [
    "# Python String"
   ]
  },
  {
   "cell_type": "code",
   "execution_count": 25,
   "id": "131853a9",
   "metadata": {},
   "outputs": [
    {
     "data": {
      "text/plain": [
       "('ChandChandChandChandChand', 'Chand Sahu')"
      ]
     },
     "execution_count": 25,
     "metadata": {},
     "output_type": "execute_result"
    }
   ],
   "source": [
    "string1 = \"Chand\"\n",
    "string2 = \" Sahu\"\n",
    "string3 = string1 + string2 #concatenate\n",
    "string4 = string1 * 5 #repetition\n",
    "string4, string3\n"
   ]
  },
  {
   "cell_type": "code",
   "execution_count": 26,
   "id": "b8c918ec",
   "metadata": {},
   "outputs": [
    {
     "data": {
      "text/plain": [
       "41"
      ]
     },
     "execution_count": 26,
     "metadata": {},
     "output_type": "execute_result"
    }
   ],
   "source": [
    "statement = \"     Python is a programming language    \"\n",
    "len(statement)"
   ]
  },
  {
   "cell_type": "code",
   "execution_count": 28,
   "id": "6d8addf4",
   "metadata": {},
   "outputs": [
    {
     "data": {
      "text/plain": [
       "'     python is a programming language    '"
      ]
     },
     "execution_count": 28,
     "metadata": {},
     "output_type": "execute_result"
    }
   ],
   "source": [
    "statement.lower()"
   ]
  },
  {
   "cell_type": "code",
   "execution_count": 29,
   "id": "a76b39e4",
   "metadata": {},
   "outputs": [
    {
     "data": {
      "text/plain": [
       "'     PYTHON IS A PROGRAMMING LANGUAGE    '"
      ]
     },
     "execution_count": 29,
     "metadata": {},
     "output_type": "execute_result"
    }
   ],
   "source": [
    "statement.upper()"
   ]
  },
  {
   "cell_type": "code",
   "execution_count": 31,
   "id": "fd9c906b",
   "metadata": {},
   "outputs": [
    {
     "data": {
      "text/plain": [
       "'Python is a programming language    '"
      ]
     },
     "execution_count": 31,
     "metadata": {},
     "output_type": "execute_result"
    }
   ],
   "source": [
    "statement.lstrip()"
   ]
  },
  {
   "cell_type": "code",
   "execution_count": 32,
   "id": "41f26185",
   "metadata": {},
   "outputs": [
    {
     "data": {
      "text/plain": [
       "'     Python is a programming language'"
      ]
     },
     "execution_count": 32,
     "metadata": {},
     "output_type": "execute_result"
    }
   ],
   "source": [
    "statement.rstrip()"
   ]
  },
  {
   "cell_type": "code",
   "execution_count": 33,
   "id": "b3342ccb",
   "metadata": {},
   "outputs": [
    {
     "data": {
      "text/plain": [
       "'G'"
      ]
     },
     "execution_count": 33,
     "metadata": {},
     "output_type": "execute_result"
    }
   ],
   "source": [
    "str8 = \"Gujarat\"\n",
    "str8[0] #"
   ]
  },
  {
   "cell_type": "code",
   "execution_count": 40,
   "id": "9e28ee59",
   "metadata": {},
   "outputs": [
    {
     "data": {
      "text/plain": [
       "'Gjr'"
      ]
     },
     "execution_count": 40,
     "metadata": {},
     "output_type": "execute_result"
    }
   ],
   "source": [
    "str8[0:3] #slicing\n",
    "str8[0:6:2]"
   ]
  },
  {
   "cell_type": "code",
   "execution_count": 41,
   "id": "2fecef9e",
   "metadata": {},
   "outputs": [
    {
     "data": {
      "text/plain": [
       "'1357'"
      ]
     },
     "execution_count": 41,
     "metadata": {},
     "output_type": "execute_result"
    }
   ],
   "source": [
    "str1 = \"123456789\"\n",
    "str1[0:8:2]"
   ]
  },
  {
   "cell_type": "code",
   "execution_count": 4,
   "id": "3e650c84",
   "metadata": {},
   "outputs": [
    {
     "data": {
      "text/plain": [
       "(['__class__',\n",
       "  '__class_getitem__',\n",
       "  '__contains__',\n",
       "  '__delattr__',\n",
       "  '__delitem__',\n",
       "  '__dir__',\n",
       "  '__doc__',\n",
       "  '__eq__',\n",
       "  '__format__',\n",
       "  '__ge__',\n",
       "  '__getattribute__',\n",
       "  '__getitem__',\n",
       "  '__gt__',\n",
       "  '__hash__',\n",
       "  '__init__',\n",
       "  '__init_subclass__',\n",
       "  '__ior__',\n",
       "  '__iter__',\n",
       "  '__le__',\n",
       "  '__len__',\n",
       "  '__lt__',\n",
       "  '__ne__',\n",
       "  '__new__',\n",
       "  '__or__',\n",
       "  '__reduce__',\n",
       "  '__reduce_ex__',\n",
       "  '__repr__',\n",
       "  '__reversed__',\n",
       "  '__ror__',\n",
       "  '__setattr__',\n",
       "  '__setitem__',\n",
       "  '__sizeof__',\n",
       "  '__str__',\n",
       "  '__subclasshook__',\n",
       "  'clear',\n",
       "  'copy',\n",
       "  'fromkeys',\n",
       "  'get',\n",
       "  'items',\n",
       "  'keys',\n",
       "  'pop',\n",
       "  'popitem',\n",
       "  'setdefault',\n",
       "  'update',\n",
       "  'values'],\n",
       " ['__and__',\n",
       "  '__class__',\n",
       "  '__class_getitem__',\n",
       "  '__contains__',\n",
       "  '__delattr__',\n",
       "  '__dir__',\n",
       "  '__doc__',\n",
       "  '__eq__',\n",
       "  '__format__',\n",
       "  '__ge__',\n",
       "  '__getattribute__',\n",
       "  '__gt__',\n",
       "  '__hash__',\n",
       "  '__iand__',\n",
       "  '__init__',\n",
       "  '__init_subclass__',\n",
       "  '__ior__',\n",
       "  '__isub__',\n",
       "  '__iter__',\n",
       "  '__ixor__',\n",
       "  '__le__',\n",
       "  '__len__',\n",
       "  '__lt__',\n",
       "  '__ne__',\n",
       "  '__new__',\n",
       "  '__or__',\n",
       "  '__rand__',\n",
       "  '__reduce__',\n",
       "  '__reduce_ex__',\n",
       "  '__repr__',\n",
       "  '__ror__',\n",
       "  '__rsub__',\n",
       "  '__rxor__',\n",
       "  '__setattr__',\n",
       "  '__sizeof__',\n",
       "  '__str__',\n",
       "  '__sub__',\n",
       "  '__subclasshook__',\n",
       "  '__xor__',\n",
       "  'add',\n",
       "  'clear',\n",
       "  'copy',\n",
       "  'difference',\n",
       "  'difference_update',\n",
       "  'discard',\n",
       "  'intersection',\n",
       "  'intersection_update',\n",
       "  'isdisjoint',\n",
       "  'issubset',\n",
       "  'issuperset',\n",
       "  'pop',\n",
       "  'remove',\n",
       "  'symmetric_difference',\n",
       "  'symmetric_difference_update',\n",
       "  'union',\n",
       "  'update'])"
      ]
     },
     "execution_count": 4,
     "metadata": {},
     "output_type": "execute_result"
    }
   ],
   "source": [
    "dir(dict),dir(set)"
   ]
  },
  {
   "cell_type": "markdown",
   "id": "eaeebd90",
   "metadata": {},
   "source": [
    "# Problems\n"
   ]
  },
  {
   "cell_type": "code",
   "execution_count": 53,
   "id": "dab34aeb",
   "metadata": {},
   "outputs": [
    {
     "name": "stdout",
     "output_type": "stream",
     "text": [
      "['apple', 'banana', 'orange', 'grape', 'mango']\n"
     ]
    }
   ],
   "source": [
    "#Question 1 and 2\n",
    "fruit_list = []\n",
    "appent_list = [ \"apple\", \"banana\", \"orange\", \"grape\", \"mango\"]\n",
    "\n",
    "fruit_list.extend(appent_list)\n",
    "print(fruit_list)"
   ]
  },
  {
   "cell_type": "code",
   "execution_count": 54,
   "id": "395f7085",
   "metadata": {},
   "outputs": [
    {
     "name": "stdout",
     "output_type": "stream",
     "text": [
      "['apple', 'banana', 'orange'] mango\n"
     ]
    }
   ],
   "source": [
    "#Question 3\n",
    "print(fruit_list[0:3],fruit_list[-1],)"
   ]
  },
  {
   "cell_type": "code",
   "execution_count": 55,
   "id": "6af09898",
   "metadata": {},
   "outputs": [
    {
     "data": {
      "text/plain": [
       "5"
      ]
     },
     "execution_count": 55,
     "metadata": {},
     "output_type": "execute_result"
    }
   ],
   "source": [
    "#Question 4\n",
    "len(fruit_list)"
   ]
  },
  {
   "cell_type": "code",
   "execution_count": 56,
   "id": "358fbb40",
   "metadata": {},
   "outputs": [
    {
     "name": "stdout",
     "output_type": "stream",
     "text": [
      "['apple', 'banana', 'pears', 'grape', 'mango']\n"
     ]
    }
   ],
   "source": [
    "#Question 5\n",
    "fruit_list[2]=\"pears\"\n",
    "print(fruit_list)"
   ]
  },
  {
   "cell_type": "code",
   "execution_count": 57,
   "id": "9a61b53a",
   "metadata": {},
   "outputs": [
    {
     "name": "stdout",
     "output_type": "stream",
     "text": [
      "apple\n"
     ]
    }
   ],
   "source": [
    "#Question 6\n",
    "if fruit_list.count(\"apple\"):\n",
    "  print(fruit_list[fruit_list.index(\"apple\")])\n",
    "else: print(\"not present\")"
   ]
  },
  {
   "cell_type": "code",
   "execution_count": 58,
   "id": "7ec3bfaa",
   "metadata": {},
   "outputs": [
    {
     "name": "stdout",
     "output_type": "stream",
     "text": [
      "['apple', 'banana', 'pears', 'grape', 'mango']\n",
      "['apple', 'pears', 'grape']\n"
     ]
    }
   ],
   "source": [
    "#Question 7\n",
    "print(fruit_list)\n",
    "fruit_list.remove(\"banana\")\n",
    "fruit_list.pop(-1)\n",
    "print(fruit_list)"
   ]
  },
  {
   "cell_type": "code",
   "execution_count": 59,
   "id": "ec654f58",
   "metadata": {},
   "outputs": [
    {
     "name": "stdout",
     "output_type": "stream",
     "text": [
      "['apple', 'pears', 'grape', 'watermelon', 'kiwi']\n"
     ]
    }
   ],
   "source": [
    "#Question 8\n",
    "another_fruite = [\"watermelon\", \"kiwi\"]\n",
    "fruit_list.extend(another_fruite)\n",
    "print(fruit_list)"
   ]
  },
  {
   "cell_type": "code",
   "execution_count": 60,
   "id": "23331e3b",
   "metadata": {},
   "outputs": [
    {
     "name": "stdout",
     "output_type": "stream",
     "text": [
      "['apple', 'grape', 'kiwi', 'pears', 'watermelon']\n"
     ]
    }
   ],
   "source": [
    "#Question 9\n",
    "fruit_list.sort()\n",
    "print(fruit_list)"
   ]
  },
  {
   "cell_type": "code",
   "execution_count": 61,
   "id": "3a7c9a28",
   "metadata": {},
   "outputs": [
    {
     "data": {
      "text/plain": [
       "1"
      ]
     },
     "execution_count": 61,
     "metadata": {},
     "output_type": "execute_result"
    }
   ],
   "source": [
    "#Question 10\n",
    "fruit_list.count(\"kiwi\")"
   ]
  },
  {
   "cell_type": "code",
   "execution_count": 62,
   "id": "cf15d883",
   "metadata": {},
   "outputs": [
    {
     "name": "stdout",
     "output_type": "stream",
     "text": [
      "Python"
     ]
    }
   ],
   "source": [
    "for letter in \"Python\":\n",
    "    print(letter,end=\"\")"
   ]
  },
  {
   "cell_type": "code",
   "execution_count": 70,
   "id": "1ce04c39",
   "metadata": {},
   "outputs": [
    {
     "name": "stdout",
     "output_type": "stream",
     "text": [
      "Total bill amount: 5.6\n"
     ]
    }
   ],
   "source": [
    "def calculate_bill(items,prices):\n",
    "    if len(items)!=len(prices):\n",
    "        return \"no. of items  and prices should be same\"\n",
    "    total_bill = 0\n",
    "    for price in prices:\n",
    "         total_bill +=price\n",
    "\n",
    "    return total_bill\n",
    "\n",
    "\n",
    "items = [\"Apple\", \"Banana\", \"Milk\", \"Bread\"]\n",
    "prices = [1.2, 0.6, 2.3, 1.5]\n",
    "total_bill_amount = calculate_bill(items, prices)\n",
    "print(\"Total bill amount:\", total_bill_amount)"
   ]
  },
  {
   "cell_type": "code",
   "execution_count": null,
   "id": "37211dc8",
   "metadata": {},
   "outputs": [],
   "source": []
  }
 ],
 "metadata": {
  "kernelspec": {
   "display_name": "Python 3 (ipykernel)",
   "language": "python",
   "name": "python3"
  },
  "language_info": {
   "codemirror_mode": {
    "name": "ipython",
    "version": 3
   },
   "file_extension": ".py",
   "mimetype": "text/x-python",
   "name": "python",
   "nbconvert_exporter": "python",
   "pygments_lexer": "ipython3",
   "version": "3.9.12"
  }
 },
 "nbformat": 4,
 "nbformat_minor": 5
}
